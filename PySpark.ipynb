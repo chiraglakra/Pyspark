{
  "nbformat": 4,
  "nbformat_minor": 0,
  "metadata": {
    "colab": {
      "name": "PySpark.ipynb",
      "provenance": []
    },
    "kernelspec": {
      "name": "python3",
      "display_name": "Python 3"
    },
    "language_info": {
      "name": "python"
    }
  },
  "cells": [
    {
      "cell_type": "code",
      "source": [
        "#Schema\n",
        "#add new entry\n",
        "#update marks\n",
        "#average marks"
      ],
      "metadata": {
        "id": "ubno7FYS7Bsw"
      },
      "execution_count": null,
      "outputs": []
    },
    {
      "cell_type": "code",
      "execution_count": 1,
      "metadata": {
        "colab": {
          "base_uri": "https://localhost:8080/"
        },
        "id": "tmFr-LMuzxoj",
        "outputId": "77ccc625-1d31-443a-efdb-3912fa643441"
      },
      "outputs": [
        {
          "output_type": "stream",
          "name": "stdout",
          "text": [
            "Collecting pyspark\n",
            "  Downloading pyspark-3.2.1.tar.gz (281.4 MB)\n",
            "\u001b[K     |████████████████████████████████| 281.4 MB 42 kB/s \n",
            "\u001b[?25hCollecting py4j==0.10.9.3\n",
            "  Downloading py4j-0.10.9.3-py2.py3-none-any.whl (198 kB)\n",
            "\u001b[K     |████████████████████████████████| 198 kB 82.0 MB/s \n",
            "\u001b[?25hBuilding wheels for collected packages: pyspark\n",
            "  Building wheel for pyspark (setup.py) ... \u001b[?25l\u001b[?25hdone\n",
            "  Created wheel for pyspark: filename=pyspark-3.2.1-py2.py3-none-any.whl size=281853642 sha256=e97b61c052f81c285f39d1af4f0ce245032628822290033fbadcb2f427d977c4\n",
            "  Stored in directory: /root/.cache/pip/wheels/9f/f5/07/7cd8017084dce4e93e84e92efd1e1d5334db05f2e83bcef74f\n",
            "Successfully built pyspark\n",
            "Installing collected packages: py4j, pyspark\n",
            "Successfully installed py4j-0.10.9.3 pyspark-3.2.1\n"
          ]
        }
      ],
      "source": [
        "!pip install pyspark"
      ]
    },
    {
      "cell_type": "code",
      "source": [
        "import pyspark\n",
        "sc = pyspark.SparkContext('local[*]') #run only once per python kernel"
      ],
      "metadata": {
        "id": "b2hHwtsG0Wsr"
      },
      "execution_count": 2,
      "outputs": []
    },
    {
      "cell_type": "code",
      "source": [
        "from pyspark.sql import SparkSession\n",
        "from pyspark.sql.types import StructType,StructField, StringType, IntegerType\n",
        "\n",
        "spark = SparkSession.builder.master(\"local[1]\") \\\n",
        "                    .appName('SparkByExamples.com') \\\n",
        "                    .getOrCreate()\n",
        "\n",
        "data = spark.sparkContext.parallelize([(\"Chirag\",\"34\",14,24,21),\n",
        "    (\"Harsh\",\"35\",15,23,25),\n",
        "    (\"Sakshi\",\"37\",13,21,22)\n",
        "  ])\n",
        "\n",
        "schema = ['Student_name','Roll_no','BDA','SF','ML']\n",
        " \n",
        "df = spark.createDataFrame(data=data,schema=schema)\n",
        "df.printSchema()\n",
        "df.show(truncate=False)"
      ],
      "metadata": {
        "colab": {
          "base_uri": "https://localhost:8080/"
        },
        "id": "qLDHC88s0Wvg",
        "outputId": "5fd9183b-89ff-48af-ec1a-cc1700d40a97"
      },
      "execution_count": 8,
      "outputs": [
        {
          "output_type": "stream",
          "name": "stdout",
          "text": [
            "root\n",
            " |-- Student_name: string (nullable = true)\n",
            " |-- Roll_no: string (nullable = true)\n",
            " |-- BDA: long (nullable = true)\n",
            " |-- SF: long (nullable = true)\n",
            " |-- ML: long (nullable = true)\n",
            "\n",
            "+------------+-------+---+---+---+\n",
            "|Student_name|Roll_no|BDA|SF |ML |\n",
            "+------------+-------+---+---+---+\n",
            "|Chirag      |34     |14 |24 |21 |\n",
            "|Harsh       |35     |15 |23 |25 |\n",
            "|Sakshi      |37     |13 |21 |22 |\n",
            "+------------+-------+---+---+---+\n",
            "\n"
          ]
        }
      ]
    },
    {
      "cell_type": "code",
      "source": [
        "from pyspark.sql.functions import col, avg\n",
        "M1=df.select('BDA')\n",
        "M1.show()\n",
        "avg1=M1.agg(avg(col('BDA')))\n",
        "avg1.show()"
      ],
      "metadata": {
        "colab": {
          "base_uri": "https://localhost:8080/"
        },
        "id": "61RuK-VP0WyF",
        "outputId": "522f1291-8cbe-4d6c-d85b-0c2fe8ddcaae"
      },
      "execution_count": 21,
      "outputs": [
        {
          "output_type": "stream",
          "name": "stdout",
          "text": [
            "+---+\n",
            "|BDA|\n",
            "+---+\n",
            "| 14|\n",
            "| 15|\n",
            "| 13|\n",
            "+---+\n",
            "\n",
            "+--------+\n",
            "|avg(BDA)|\n",
            "+--------+\n",
            "|    14.0|\n",
            "+--------+\n",
            "\n"
          ]
        }
      ]
    },
    {
      "cell_type": "code",
      "source": [
        "M2=df.select('SF')\n",
        "M2.show()\n",
        "avg2=M2.agg(avg(col('SF')))\n",
        "avg2.show()"
      ],
      "metadata": {
        "colab": {
          "base_uri": "https://localhost:8080/"
        },
        "id": "0SVzfwmj0W0v",
        "outputId": "73011180-d4de-425b-ae57-aba27fefe870"
      },
      "execution_count": 22,
      "outputs": [
        {
          "output_type": "stream",
          "name": "stdout",
          "text": [
            "+---+\n",
            "| SF|\n",
            "+---+\n",
            "| 24|\n",
            "| 23|\n",
            "| 21|\n",
            "+---+\n",
            "\n",
            "+------------------+\n",
            "|           avg(SF)|\n",
            "+------------------+\n",
            "|22.666666666666668|\n",
            "+------------------+\n",
            "\n"
          ]
        }
      ]
    },
    {
      "cell_type": "code",
      "source": [
        "M3=df.select('ML')\n",
        "M3.show()\n",
        "avg3=M3.agg(avg(col('ML')))\n",
        "avg3.show()"
      ],
      "metadata": {
        "colab": {
          "base_uri": "https://localhost:8080/"
        },
        "id": "t-vx_iR00W3V",
        "outputId": "0a252023-4487-4499-d1ff-13b6f2d11623"
      },
      "execution_count": 23,
      "outputs": [
        {
          "output_type": "stream",
          "name": "stdout",
          "text": [
            "+---+\n",
            "| ML|\n",
            "+---+\n",
            "| 21|\n",
            "| 25|\n",
            "| 22|\n",
            "+---+\n",
            "\n",
            "+------------------+\n",
            "|           avg(ML)|\n",
            "+------------------+\n",
            "|22.666666666666668|\n",
            "+------------------+\n",
            "\n"
          ]
        }
      ]
    },
    {
      "cell_type": "code",
      "source": [
        "df.show()\n",
        "newRow = spark.createDataFrame([(\"Arjun\",\"11\",15,23,25)], schema)\n",
        "appended = df.union(newRow)\n",
        "appended.show()"
      ],
      "metadata": {
        "colab": {
          "base_uri": "https://localhost:8080/"
        },
        "id": "nXvcSWSK0W54",
        "outputId": "612316fc-cb89-4066-eac5-43564adeb74c"
      },
      "execution_count": 27,
      "outputs": [
        {
          "output_type": "stream",
          "name": "stdout",
          "text": [
            "+------------+-------+---+---+---+\n",
            "|Student_name|Roll_no|BDA| SF| ML|\n",
            "+------------+-------+---+---+---+\n",
            "|      Chirag|     34| 14| 24| 21|\n",
            "|       Harsh|     35| 15| 23| 25|\n",
            "|      Sakshi|     37| 13| 21| 22|\n",
            "+------------+-------+---+---+---+\n",
            "\n",
            "+------------+-------+---+---+---+\n",
            "|Student_name|Roll_no|BDA| SF| ML|\n",
            "+------------+-------+---+---+---+\n",
            "|      Chirag|     34| 14| 24| 21|\n",
            "|       Harsh|     35| 15| 23| 25|\n",
            "|      Sakshi|     37| 13| 21| 22|\n",
            "|       Arjun|     11| 15| 23| 25|\n",
            "+------------+-------+---+---+---+\n",
            "\n"
          ]
        }
      ]
    },
    {
      "cell_type": "code",
      "source": [
        ""
      ],
      "metadata": {
        "id": "0CKZMt-10W8h"
      },
      "execution_count": null,
      "outputs": []
    },
    {
      "cell_type": "code",
      "source": [
        ""
      ],
      "metadata": {
        "id": "0RPnUtsL0W-t"
      },
      "execution_count": null,
      "outputs": []
    },
    {
      "cell_type": "code",
      "source": [
        ""
      ],
      "metadata": {
        "id": "IIv_I4820XBc"
      },
      "execution_count": null,
      "outputs": []
    },
    {
      "cell_type": "code",
      "source": [
        ""
      ],
      "metadata": {
        "id": "2teQwMXQ0XEM"
      },
      "execution_count": null,
      "outputs": []
    },
    {
      "cell_type": "code",
      "source": [
        ""
      ],
      "metadata": {
        "id": "YjQ09yyv0XHp"
      },
      "execution_count": null,
      "outputs": []
    }
  ]
}